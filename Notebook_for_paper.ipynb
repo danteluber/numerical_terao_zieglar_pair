{
 "cells": [
  {
   "cell_type": "markdown",
   "id": "d3b263ab",
   "metadata": {},
   "source": [
    "# On the numerical Terao's conjecture and Ziegler pairs for line arrangements.\n",
    "\n",
    "In this notebook we exhibit the computations relevant for the main theorems and examples in the paper *On the numerical Terao's conjecture and Ziegler pairs for line arrangements*, by L. K\\\"uhne, D. Luber, and P. Pokora."
   ]
  },
  {
   "cell_type": "code",
   "execution_count": 1,
   "id": "f81500e3",
   "metadata": {},
   "outputs": [
    {
     "name": "stdout",
     "output_type": "stream",
     "text": [
      "  ___   ____   ____    _    ____\n",
      " / _ \\ / ___| / ___|  / \\  |  _ \\   |  Combining ANTIC, GAP, Polymake, Singular\n",
      "| | | |\\___ \\| |     / _ \\ | |_) |  |  Type \"?Oscar\" for more information\n",
      "| |_| | ___) | |___ / ___ \\|  _ <   |  Manual: https://docs.oscar-system.org\n",
      " \\___/ |____/ \\____/_/   \\_\\_| \\_\\  |  1.1.0-DEV #dl/arrangements 6c53394 2024-06-06\n"
     ]
    }
   ],
   "source": [
    "using Oscar"
   ]
  },
  {
   "cell_type": "markdown",
   "id": "7ec60a66",
   "metadata": {},
   "source": [
    "# Funtions"
   ]
  },
  {
   "cell_type": "markdown",
   "id": "688e7191",
   "metadata": {},
   "source": [
    "**Function** : `derivation_module`\n",
    "\n",
    "**Input** : `A`, $d\\times n$ matrix with entries from field $\\mathbb{F}$.\n",
    "\n",
    "**Description**: Computes module of logarithmic derivation for hyperplane arrangement $\\mathcal{A}=\\{H_1,\\dots H_n:H_i\\subset\\mathbb{F}^{d}\\}$ induced by the columns of `A`.\n"
   ]
  },
  {
   "cell_type": "code",
   "execution_count": 2,
   "id": "b2506031",
   "metadata": {},
   "outputs": [
    {
     "data": {
      "text/plain": [
       "derivation_module (generic function with 1 method)"
      ]
     },
     "execution_count": 2,
     "metadata": {},
     "output_type": "execute_result"
    }
   ],
   "source": [
    "function derivation_module(A)\n",
    "\n",
    "    \n",
    "    S, x = graded_polynomial_ring(base_ring(A), nrows(A))\n",
    "  \n",
    "    M = diagonal_matrix([sum([A[i,k]*gens(S)[i] for i in 1:nrows(A)]) for k in 1:ncols(A)]).entries\n",
    "    \n",
    "    M = matrix(S,M)\n",
    "   \n",
    "    A = matrix([S(a) for a in A])\n",
    "    \n",
    "    DA,_ = kernel(hom(graded_free_module(S,nrows(A)),cokernel(M),A))\n",
    "    \n",
    "    return DA\n",
    "end\n"
   ]
  },
  {
   "cell_type": "markdown",
   "id": "e5f2a5e9",
   "metadata": {},
   "source": [
    "**Function** : `flat_mult_k` \n",
    "\n",
    "**Input** : `F`,`k`, where `F` is the set of rank $2$ flats of some matroid, and `k` is a natural number.\n",
    "\n",
    "**Description**: Computes the number of rank 2 flats of cardinality $k$.\n",
    "\n",
    "\n",
    "**Function** : `weak_combinatorics` \n",
    "\n",
    "**Input** : `M`, rank $3$ matroid on $n$ elements.\n",
    "\n",
    "**Description**: Computes the weak combinatorics of $M$. Returns $\\mathcal{L}(M) = (n;t_2,\\dots,t_k)$ where $t_i$ is the number of rank $2$ flats of cardinality $k$."
   ]
  },
  {
   "cell_type": "code",
   "execution_count": 3,
   "id": "57bf71d9",
   "metadata": {},
   "outputs": [
    {
     "data": {
      "text/plain": [
       "weak_combinatorics (generic function with 1 method)"
      ]
     },
     "execution_count": 3,
     "metadata": {},
     "output_type": "execute_result"
    }
   ],
   "source": [
    "function flat_mult_k(F,k)\n",
    "    \n",
    "    return length([f for f in F if length(f) == k])\n",
    "\n",
    "end \n",
    "\n",
    "function weak_combinatorics(M)\n",
    "    \n",
    "    F = hyperplanes(M)\n",
    "    \n",
    "    m = maximum([length(f) for f in F])\n",
    "    \n",
    "    return  [[length(M)],[length([f for f in F if length(f) == k]) for k in 2:m]]\n",
    "    \n",
    "end"
   ]
  },
  {
   "cell_type": "markdown",
   "id": "91213feb",
   "metadata": {},
   "source": [
    "# Section 3 : Numerical Terao's conjecture\n",
    "\n",
    "**Conjecture** For some hyperplane arrangement $\\mathcal{A}$, freeness of the module of derivations $\\mathcal{D}(\\mathcal{A}))$ is determined by the weak combinatorics of the underlying matroid of $\\mathcal{A}$.\n",
    "\n",
    "The following arrangements on $n=13$ lines constitute a counterexample for minimal $n$ to the above conjecture."
   ]
  },
  {
   "cell_type": "markdown",
   "id": "b7eb3556",
   "metadata": {},
   "source": [
    "# Example 3.1\n",
    "\n",
    "Let $\\mathcal{A}$ be the complex line arrangement given by the following defining equation\n",
    "\\begin{align*}\n",
    "Q_{\\mathcal{A}}(x,y,z)=&xyz(x+y)(x+iy)(x+(1+i)y)(x+z)(2x+(1+i)z)(x+iz)\\\\\n",
    "&(y-z)(2y-(1+i)z)(x+iy+z)(x+(1+i)y+z).\n",
    "\\end{align*}\n",
    "The weak-combinatorics of $\\mathcal{A}$ is $(d_{1};t_{2}, t_{3}, t_{4}, t_{5}) = (13; 16, 6, 4, 2)$.\n",
    "\n",
    "We show that $\\mathcal{A}$ is free with exponents $(6,6)$."
   ]
  },
  {
   "cell_type": "markdown",
   "id": "813b4e91",
   "metadata": {},
   "source": [
    "First we encode the arrangement as a matrix and produce the weak combinatorics of the associated matroid."
   ]
  },
  {
   "cell_type": "code",
   "execution_count": 4,
   "id": "46ac4f05",
   "metadata": {},
   "outputs": [
    {
     "data": {
      "text/plain": [
       "[1   0   0   1   1       1   1       2   1    0        0   1       1]\n",
       "[0   1   0   1   a   a + 1   0       0   0    1        2   a   a + 1]\n",
       "[0   0   1   0   0       0   1   a + 1   a   -1   -a - 1   1       1]"
      ]
     },
     "execution_count": 4,
     "metadata": {},
     "output_type": "execute_result"
    }
   ],
   "source": [
    "#encode arrangement as a matrix\n",
    "\n",
    "Qs,s = QQ[\"s\"]\n",
    "\n",
    "QQi,i = number_field(s^2 + 1,\"a\")\n",
    "\n",
    "A = transpose(matrix(QQi,[1 0 0;0 1 0;0 0 1;1 1 0;1 i 0;1 (1+i) 0;1 0 1;2 0 (1+i);\n",
    "            1 0 i;0 1 -1;0 2 -(1+i);1 i 1;1 (1+i) 1]))"
   ]
  },
  {
   "cell_type": "code",
   "execution_count": 5,
   "id": "a70a8828",
   "metadata": {},
   "outputs": [
    {
     "data": {
      "text/plain": [
       "2-element Vector{Vector{Int64}}:\n",
       " [13]\n",
       " [19, 7, 3, 2]"
      ]
     },
     "execution_count": 5,
     "metadata": {},
     "output_type": "execute_result"
    }
   ],
   "source": [
    "#compute underlying matroid\n",
    "M1 = matroid_from_matrix_columns(A)\n",
    "#compute weak combinatorics\n",
    "W_M1 = weak_combinatorics(M1)"
   ]
  },
  {
   "cell_type": "code",
   "execution_count": 32,
   "id": "250685d2",
   "metadata": {},
   "outputs": [
    {
     "data": {
      "text/plain": [
       "       0  1\n",
       "-----------\n",
       "1    : 1  -\n",
       "2    : -  -\n",
       "3    : -  -\n",
       "4    : -  -\n",
       "5    : -  -\n",
       "6    : -  -\n",
       "7    : 4  2\n",
       "-----------\n",
       "total: 5  2\n"
      ]
     },
     "execution_count": 32,
     "metadata": {},
     "output_type": "execute_result"
    }
   ],
   "source": [
    "minimal_betti_table(derivation_module(A))"
   ]
  },
  {
   "cell_type": "markdown",
   "id": "2e856e88",
   "metadata": {},
   "source": [
    "# Example 3.2 \n",
    "\n",
    "Let $\\varphi=\\frac{1+\\sqrt{5}}{2}$ be the golden ratio and $\\mathcal{B}$ be the real line arrangement given by the following defining equation\n",
    "\t\\begin{align*}\n",
    "\tQ_{\\mathcal{B}}(x,y,z)=&xyz(x+y)(x-\\varphi y)(x+(1-\\varphi)y)(x+z)(x-\\varphi z)(x+(1+\\varphi)z)\\\\\n",
    "\t&(y-z)(y-(1+\\varphi)z)(x-y+z)(x+(1-\\varphi)y+\\varphi z).\n",
    "\t\\end{align*}\n",
    "\tThe weak-combinatorics of $\\mathcal{B}$ is $(d_{1};t_{2}, t_{3}, t_{4}, t_{5}) = (13; 16, 6, 4, 2)$ as well. module of logarithmic derivations has a minimal set of generators with degrees $(5,8,8)$ with one relation generated in degree $9$.\n",
    "\tThus, $\\mathcal{B}$ is plus-one-generated with exponents $(5,8,8)$."
   ]
  },
  {
   "cell_type": "markdown",
   "id": "b31a4401",
   "metadata": {},
   "source": [
    "Again we encode the arrangement as a matrix and produce the weak combinatorics."
   ]
  },
  {
   "cell_type": "code",
   "execution_count": 55,
   "id": "642b5043",
   "metadata": {},
   "outputs": [
    {
     "data": {
      "text/plain": [
       "[1   0   0   1                 1                 1   1                 1                1    0                 0    1                 1]\n",
       "[0   1   0   1   -1//2*r5 - 1//2   -1//2*r5 + 1//2   0                 0                0    1                 1   -1   -1//2*r5 + 1//2]\n",
       "[0   0   1   0                 0                 0   1   -1//2*r5 - 1//2   1//2*r5 + 3//2   -1   -1//2*r5 - 3//2    1    1//2*r5 + 1//2]"
      ]
     },
     "execution_count": 55,
     "metadata": {},
     "output_type": "execute_result"
    }
   ],
   "source": [
    "Kr5,r = number_field(s^2-5,\"r5\")#compute field extension containing square root of 5.\n",
    "\n",
    "p = (1+r)//2 #phi in statement of Example 3.2.\n",
    "\n",
    "B = transpose(matrix(Kr5,[1 0 0;0 1 0;0 0 1;1 1 0;1 -p 0;\n",
    "            1 (1-p) 0;1 0 1;1 0 -p;1 0 (1+p);0 1 -1;0 1 -(1+p);1 -1 1;1 (1-p) p]))"
   ]
  },
  {
   "cell_type": "code",
   "execution_count": 56,
   "id": "e8792da0",
   "metadata": {},
   "outputs": [
    {
     "data": {
      "text/plain": [
       "2-element Vector{Vector{Int64}}:\n",
       " [13]\n",
       " [16, 6, 4, 2]"
      ]
     },
     "execution_count": 56,
     "metadata": {},
     "output_type": "execute_result"
    }
   ],
   "source": [
    "M2 = matroid_from_matrix_columns(B)\n",
    "\n",
    "W2 = weak_combinatorics(M2)"
   ]
  },
  {
   "cell_type": "code",
   "execution_count": 57,
   "id": "01e4c02d",
   "metadata": {},
   "outputs": [
    {
     "data": {
      "text/plain": [
       "The realization space is\n",
       "  [1   0   0   1     1         1   1     1        1    0         0    1         1]\n",
       "  [0   1   0   1   -x1   -x1 + 1   0     0        0    1         1   -1   -x1 + 1]\n",
       "  [0   0   1   0     0         0   1   -x1   x1 + 1   -1   -x1 - 1    1        x1]\n",
       "in the multivariate polynomial ring in 1 variable over QQ\n",
       "within the vanishing set of the ideal\n",
       "Ideal (x1^2 - x1 - 1)\n",
       "avoiding the zero loci of the polynomials\n",
       "RingElem[x1 - 1, x1 - 2, x1, x1^2 - 2*x1 - 1, x1 + 1, 2*x1 + 1, x1^2 + x1 + 1]"
      ]
     },
     "execution_count": 57,
     "metadata": {},
     "output_type": "execute_result"
    }
   ],
   "source": [
    "realization_space(M2,B=[1,2,3],char = 0)"
   ]
  },
  {
   "cell_type": "markdown",
   "id": "c09d55f9",
   "metadata": {},
   "source": [
    "Next we compute the minimal Betti table of the module of logarithmic derivations to verify the claims above."
   ]
  },
  {
   "cell_type": "code",
   "execution_count": 49,
   "id": "3df96099",
   "metadata": {},
   "outputs": [
    {
     "data": {
      "text/plain": [
       "       0  1\n",
       "-----------\n",
       "1    : 1  -\n",
       "2    : -  -\n",
       "3    : -  -\n",
       "4    : -  -\n",
       "5    : 1  -\n",
       "6    : -  -\n",
       "7    : -  -\n",
       "8    : 2  1\n",
       "-----------\n",
       "total: 4  1\n"
      ]
     },
     "execution_count": 49,
     "metadata": {},
     "output_type": "execute_result"
    }
   ],
   "source": [
    "D2 = derivation_module(A2)\n",
    "minimal_betti_table(D2)"
   ]
  },
  {
   "cell_type": "markdown",
   "id": "ee67a881",
   "metadata": {},
   "source": [
    "# Section 4 : Weak Ziegler pairs"
   ]
  },
  {
   "cell_type": "markdown",
   "id": "ea5fb5d7",
   "metadata": {},
   "source": [
    "Here we study the examples of Ziegler pairs presented in Section 4 of the paper. \n",
    "\n",
    "**Definition 4.1** We say that two line arrangements $\\mathcal{L}_{1}, \\mathcal{L}_{2} \\subset \\mathbb{P}^{2}_{\\mathbb{C}}$ form a *Ziegler pair* if the intersection lattices of $\\mathcal{L}_{1}$ and $\\mathcal{L}_{2}$ are isomorphic, but ${\\rm mdr}(\\mathcal{L}_{1}) \\neq {\\rm mdr}(\\mathcal{L}_{2})$.\n",
    "\n",
    "We begin with a weaker condition.\n",
    "\n",
    "**Definition 4.2** Consider two reduced plane curves $C_{1}, C_{2} \\subset \\mathbb{P}^{2}_{\\mathbb{C}}$ such that all irreducible components of $C_{1}$ and $C_{2}$ are smooth. We say that a pair $(C_{1},C_{2})$ forms a *weak Ziegler pair* if $C_{1}$ and $C_{2}$ have the same weak-combinatorics, but they have different minimal degrees of non-trivial Jacobian relations, i.e., ${\\rm mdr}(C_{1}) \\neq {\\rm mdr}(C_{2})$.\n"
   ]
  },
  {
   "cell_type": "markdown",
   "id": "bcc5833d",
   "metadata": {},
   "source": [
    "**Theorem 4.3** There exists a pair of two real line arrangements $\\mathcal{L}_{1}, \\mathcal{L}_{2}$ consisting of $12$ lines with $19$ triple and $9$ double intersection points such that $\\mathcal{L}_{1}$ is $3$-syzygy with ${\\rm mdr}(\\mathcal{L}_{1}) = 6$ and $\\mathcal{L}_{2}$ is $4$-syzygy with ${\\rm mdr}(\\mathcal{L}_{1}) = 7$."
   ]
  },
  {
   "cell_type": "markdown",
   "id": "3d7dc3ab",
   "metadata": {},
   "source": [
    "*Proof*: \n",
    "Consider the line arrangement $\\mathcal{L}_1$ defined by the equation \\begin{align*}\n",
    "Q_{1}(x,y,z) = (y+2z)(y+3z)(y+5z)x(x-y)(x-y-4z)(x-y-6z)(x+y) \\\\ (x+y+4z)(x+y+6z)\\bigg(y+\\frac{x}{3}+\\frac{10z}{3}\\bigg)\\bigg(y-\\frac{x}{3}+\\frac{10z}{3}\\bigg).\n",
    "\\end{align*}\n",
    "We compute it's weak matrix representation, underlying matroid, and weak combinatorics."
   ]
  },
  {
   "cell_type": "code",
   "execution_count": 91,
   "id": "9d576f61",
   "metadata": {},
   "outputs": [
    {
     "data": {
      "text/plain": [
       "[0   0   0   1    1    1    1   1   1   1    1//3   -1//3]\n",
       "[1   1   1   0   -1   -1   -1   1   1   1       1       1]\n",
       "[2   3   5   0    0   -4   -6   0   4   6   10//3   10//3]"
      ]
     },
     "execution_count": 91,
     "metadata": {},
     "output_type": "execute_result"
    }
   ],
   "source": [
    "A3 = transpose(matrix(QQ,[0 1 2;0 1 3;0 1 5;1 0 0;1 -1 0;1 -1 -4;\n",
    "        1 -1 -6;1 1 0;1 1 4;1 1 6;1//3 1 10//3;-1//3 1 10//3]))"
   ]
  },
  {
   "cell_type": "code",
   "execution_count": 92,
   "id": "45911ce5",
   "metadata": {},
   "outputs": [
    {
     "data": {
      "text/plain": [
       "Matroid of rank 3 on 12 elements"
      ]
     },
     "execution_count": 92,
     "metadata": {},
     "output_type": "execute_result"
    }
   ],
   "source": [
    "M3 = matroid_from_matrix_columns(A3)"
   ]
  },
  {
   "cell_type": "code",
   "execution_count": 100,
   "id": "c20476fa",
   "metadata": {},
   "outputs": [
    {
     "data": {
      "text/plain": [
       "2-element Vector{Vector{Int64}}:\n",
       " [12]\n",
       " [9, 19]"
      ]
     },
     "execution_count": 100,
     "metadata": {},
     "output_type": "execute_result"
    }
   ],
   "source": [
    "W3 = weak_combinatorics(M3)"
   ]
  },
  {
   "cell_type": "markdown",
   "id": "ca73df1f",
   "metadata": {},
   "source": [
    "And the minimal betti table of the minimal free resolution of the derivation module $\\mathcal{D}(\\mathcal{L}_1)$. We remark that in the paper, the free resolution of the Milnor algebra is instead computed."
   ]
  },
  {
   "cell_type": "code",
   "execution_count": 110,
   "id": "9f3d60d0",
   "metadata": {},
   "outputs": [
    {
     "data": {
      "text/plain": [
       "       0  1\n",
       "-----------\n",
       "1    : 1  -\n",
       "2    : -  -\n",
       "3    : -  -\n",
       "4    : -  -\n",
       "5    : -  -\n",
       "6    : 1  -\n",
       "7    : 1  -\n",
       "8    : 1  -\n",
       "9    : -  1\n",
       "-----------\n",
       "total: 4  1\n"
      ]
     },
     "execution_count": 110,
     "metadata": {},
     "output_type": "execute_result"
    }
   ],
   "source": [
    "D3 = derivation_module(A3)\n",
    "B3 = minimal_betti_table(D3)"
   ]
  },
  {
   "cell_type": "markdown",
   "id": "cd151f5d",
   "metadata": {},
   "source": [
    "Hence ${\\rm mdr}(\\mathcal{L}_{1}) = 6$. "
   ]
  },
  {
   "cell_type": "code",
   "execution_count": 111,
   "id": "a13ef8b4",
   "metadata": {},
   "outputs": [
    {
     "data": {
      "text/plain": [
       "(Number field of degree 2 over QQ, r2)"
      ]
     },
     "execution_count": 111,
     "metadata": {},
     "output_type": "execute_result"
    }
   ],
   "source": [
    "QQr2,r = number_field(s^2-2,\"r2\")"
   ]
  },
  {
   "cell_type": "markdown",
   "id": "70cceb50",
   "metadata": {},
   "source": [
    "Now for the second arrangement $\\mathcal{L}_2$ defined by\n",
    "$Q_{2}(x,y,z) = xy(x-y)(x+y-z)(x-z)(y-z)\\bigg(x+(1-\\sqrt{2})z\\bigg)\\bigg(y +(\\sqrt{2}-2)z\\bigg) \\\\\n",
    "\\bigg(x+\\sqrt{2}y+(1-\\sqrt{2})z\\bigg)\\bigg(x -\\sqrt{2}z + \\frac{\\sqrt{2}}{2}y \\bigg)\\bigg( x + (\\sqrt{2}+1)y - \\sqrt{2}z\\bigg)\\bigg(x + (\\sqrt{2}-1)y+(2-2\\sqrt{2})z\\bigg)$."
   ]
  },
  {
   "cell_type": "code",
   "execution_count": 112,
   "id": "9a58e395",
   "metadata": {},
   "outputs": [
    {
     "data": {
      "text/plain": [
       "[1   0    1    1    1    0         1        0         1         1        1           1]\n",
       "[0   1   -1    1    0    1         0        1        r2   1//2*r2   r2 + 1      r2 - 1]\n",
       "[0   0    0   -1   -1   -1   -r2 + 1   r2 - 2   -r2 + 1       -r2      -r2   -2*r2 + 2]"
      ]
     },
     "execution_count": 112,
     "metadata": {},
     "output_type": "execute_result"
    }
   ],
   "source": [
    "QQr2,r = number_field(s^2-2,\"r2\")\n",
    "A4 = transpose(matrix(QQr2,[1 0 0;0 1 0;1 -1 0;1 1 -1;1 0 -1;0 1 -1;1 0 (1-r);\n",
    "            0 1 (r-2);1 r (1-r);1 r//2 -r;1 (r+1) -r;1 (r-1) (2-2*r)]))"
   ]
  },
  {
   "cell_type": "code",
   "execution_count": 113,
   "id": "500098d8",
   "metadata": {},
   "outputs": [
    {
     "data": {
      "text/plain": [
       "Matroid of rank 3 on 12 elements"
      ]
     },
     "execution_count": 113,
     "metadata": {},
     "output_type": "execute_result"
    }
   ],
   "source": [
    "M4 = matroid_from_matrix_columns(A4)"
   ]
  },
  {
   "cell_type": "code",
   "execution_count": 114,
   "id": "db647366",
   "metadata": {},
   "outputs": [
    {
     "data": {
      "text/plain": [
       "false"
      ]
     },
     "execution_count": 114,
     "metadata": {},
     "output_type": "execute_result"
    }
   ],
   "source": [
    "is_isomorphic(M3,M4)"
   ]
  },
  {
   "cell_type": "code",
   "execution_count": 115,
   "id": "0a75a081",
   "metadata": {},
   "outputs": [
    {
     "data": {
      "text/plain": [
       "true"
      ]
     },
     "execution_count": 115,
     "metadata": {},
     "output_type": "execute_result"
    }
   ],
   "source": [
    "weak_combinatorics(M3) == weak_combinatorics(M4) #compare weak combinatorics."
   ]
  },
  {
   "cell_type": "code",
   "execution_count": 116,
   "id": "25e9e224",
   "metadata": {},
   "outputs": [
    {
     "data": {
      "text/plain": [
       "       0  1\n",
       "-----------\n",
       "1    : 1  -\n",
       "2    : -  -\n",
       "3    : -  -\n",
       "4    : -  -\n",
       "5    : -  -\n",
       "6    : -  -\n",
       "7    : 3  -\n",
       "8    : 1  2\n",
       "-----------\n",
       "total: 5  2\n"
      ]
     },
     "execution_count": 116,
     "metadata": {},
     "output_type": "execute_result"
    }
   ],
   "source": [
    "D4 = derivation_module(A4)\n",
    "minimal_betti_table(D4)"
   ]
  },
  {
   "cell_type": "markdown",
   "id": "e4d1e8f7",
   "metadata": {},
   "source": [
    "Hence ${\\rm mdr}(\\mathcal{L}_{2}) = 7$. \n",
    "\n",
    "Since we saw and $\\mathcal{L}_{1}=6$ and $\\mathcal{L}_{2}=7$, and $W(\\mathcal{L}_{1})=W(\\mathcal{L}_{2})$, these arrangements form a weak Ziegler pair."
   ]
  },
  {
   "cell_type": "markdown",
   "id": "f7a27cfc",
   "metadata": {},
   "source": [
    "**Realization space of $\\mathcal{L}_1$**\n",
    "\n",
    "Recall that $\\mathcal{L}_1$ above is known as the *Zacharias arrangement*.\n",
    "\n",
    "We compute the characteristic $0$ realization space of $M_3$, the underlying matroid of $\\mathcal{L}_1$, to verify the following.\n",
    "\n",
    "**Proposition 4.4**. The realization space of the Zacharias arrangement is one dimensional.\n",
    "\n",
    "*Proof*: we compute the data for the realization space below. Note that his presentation is with respect to the basis $\\{1,4,5\\}$."
   ]
  },
  {
   "cell_type": "code",
   "execution_count": 130,
   "id": "9f1ee4e7",
   "metadata": {},
   "outputs": [
    {
     "data": {
      "text/plain": [
       "[1   1    1   0   0              1                     1      0              1                     1            1    1]\n",
       "[0   1   x1   1   0    3*x1 - 2*x2           3*x1 - 2*x2      1              0                     1   -x1 + 2*x2   x1]\n",
       "[0   1   x1   0   1   3//2*x1 - x2   3//2*x1 - x2 + 1//2   1//2   3//2*x1 - x2   3//2*x1 - x2 + 1//2           x2   x2]"
      ]
     },
     "execution_count": 130,
     "metadata": {},
     "output_type": "execute_result"
    }
   ],
   "source": [
    "RM3 = realization_space(M3,B = [1,4,5],char = 0)\n",
    "RM3.realization_matrix"
   ]
  },
  {
   "cell_type": "code",
   "execution_count": 131,
   "id": "ba052ede",
   "metadata": {},
   "outputs": [
    {
     "data": {
      "text/plain": [
       "1-element Vector{QQMPolyRingElem}:\n",
       " 3*x1^2 - 8*x1*x2 + x1 + 4*x2^2"
      ]
     },
     "execution_count": 131,
     "metadata": {},
     "output_type": "execute_result"
    }
   ],
   "source": [
    "gens(RM3.defining_ideal)"
   ]
  },
  {
   "cell_type": "code",
   "execution_count": 132,
   "id": "a73c27db",
   "metadata": {},
   "outputs": [
    {
     "data": {
      "text/plain": [
       "1"
      ]
     },
     "execution_count": 132,
     "metadata": {},
     "output_type": "execute_result"
    }
   ],
   "source": [
    "dim(RM3.defining_ideal)"
   ]
  },
  {
   "cell_type": "code",
   "execution_count": 127,
   "id": "f3b4aed2",
   "metadata": {},
   "outputs": [
    {
     "data": {
      "text/plain": [
       "17-element Vector{RingElem}:\n",
       " x1 - x2\n",
       " x2\n",
       " x2 - 1\n",
       " 3*x1 - 4*x2\n",
       " 3*x1 - 4*x2 + 1\n",
       " 3*x1^2 - 2*x1*x2 + x1 - 2*x2\n",
       " x1 - 1\n",
       " 3*x1 - 2*x2 - 1\n",
       " 9*x1^2 - 18*x1*x2 - x1 + 8*x2^2 + 2*x2\n",
       " 3*x1 - 2*x2\n",
       " x1\n",
       " 3*x1^2 - 2*x1*x2 - 5*x1 + 4*x2\n",
       " 9*x1^2 - 18*x1*x2 + x1 + 8*x2^2\n",
       " x1 - 2*x2\n",
       " x1 - 2*x2 + 1\n",
       " 3*x1 - 2*x2 + 1\n",
       " 3*x1 - 2*x2 - 2"
      ]
     },
     "execution_count": 127,
     "metadata": {},
     "output_type": "execute_result"
    }
   ],
   "source": [
    "P = RM3.inequations"
   ]
  },
  {
   "cell_type": "markdown",
   "id": "70e44c4f",
   "metadata": {},
   "source": [
    "Then the realization space of $M_3$ is isomorphic to the spectrum of the ring $\\frac{P^{-1}\\mathbb{R}[x_1,x_2]}{\\langle 3x^{2}_1-8x_1 x_2 + 4x^{2}_2\\rangle}$, and is thus $1$ dimensional."
   ]
  },
  {
   "cell_type": "markdown",
   "id": "99dc8e21",
   "metadata": {},
   "source": [
    "# Section 5 : Ziegler pairs"
   ]
  },
  {
   "cell_type": "markdown",
   "id": "5a9da2d8",
   "metadata": {},
   "source": [
    "We conclude by exhibiting two examples of Ziegler pairs. These examples were obtained using data on singular realization spaces of $(3,12)$-matroids. This data was collected as a biproduct of the paper\n",
    "<a href=\"https://arxiv.org/abs/2307.11915\">Singular matroid realization spaces</a>."
   ]
  },
  {
   "cell_type": "markdown",
   "id": "ea5bca09",
   "metadata": {},
   "source": [
    "# Example 5.1 \n",
    "\n",
    "We define a $(3,12)$-matroid $M_5$ via the nonbases below."
   ]
  },
  {
   "cell_type": "code",
   "execution_count": 137,
   "id": "3dc2da3e",
   "metadata": {},
   "outputs": [],
   "source": [
    "NB1 = [ [1, 2, 3],[1, 4, 5],[1, 6, 10],[2, 4, 6],[2, 5, 8],\n",
    "    [2, 9, 10],[3, 4, 7],[3, 5, 9],[3, 6, 11],[4, 10, 12],[5, 6, 7],\n",
    "    [5, 11, 12],[7, 8, 11],[8, 9, 12]];"
   ]
  },
  {
   "cell_type": "code",
   "execution_count": 139,
   "id": "b9d2ef48",
   "metadata": {},
   "outputs": [
    {
     "data": {
      "text/plain": [
       "Matroid of rank 3 on 12 elements"
      ]
     },
     "execution_count": 139,
     "metadata": {},
     "output_type": "execute_result"
    }
   ],
   "source": [
    "M5 = matroid_from_nonbases(NB1,12)"
   ]
  },
  {
   "cell_type": "markdown",
   "id": "d69f1093",
   "metadata": {},
   "source": [
    "We compute the data for the realization space of $M_5$ over characteristic $0$. Note that this presentation comes from computing with respect to the bases $\\{2,5,6\\}$."
   ]
  },
  {
   "cell_type": "code",
   "execution_count": 147,
   "id": "9a15b3ae",
   "metadata": {},
   "outputs": [],
   "source": [
    "RM5 = realization_space(M5,B = [2,5,6],char= 0);"
   ]
  },
  {
   "cell_type": "markdown",
   "id": "ed35573c",
   "metadata": {},
   "source": [
    "The definining ideal of RM5 is principally generated by an element which factors as we see below. "
   ]
  },
  {
   "cell_type": "code",
   "execution_count": 312,
   "id": "dd04f9aa",
   "metadata": {},
   "outputs": [
    {
     "data": {
      "text/plain": [
       "1-element Vector{QQMPolyRingElem}:\n",
       " x1^2*x2 + x1^2*x3 - x1^2 - x1*x2^2 - 2*x1*x2*x3 - 2*x1*x3^2 + x1*x3 + x1 + x2^2 + x2*x3^2 + x2*x3 - x2 + x3^3 - x3"
      ]
     },
     "execution_count": 312,
     "metadata": {},
     "output_type": "execute_result"
    }
   ],
   "source": [
    "I = RM5.defining_ideal\n",
    "gens(I)"
   ]
  },
  {
   "cell_type": "code",
   "execution_count": 154,
   "id": "de23abf9",
   "metadata": {},
   "outputs": [
    {
     "data": {
      "text/plain": [
       "1 * (x1*x2 + x1*x3 - x1 - x2 - x3^2 + 1) * (x1 - x2 - x3)"
      ]
     },
     "execution_count": 154,
     "metadata": {},
     "output_type": "execute_result"
    }
   ],
   "source": [
    "factor(gens(I)[1])"
   ]
  },
  {
   "cell_type": "markdown",
   "id": "e89c6324",
   "metadata": {},
   "source": [
    "Hence the realization space has two 2 dimensional components, and a 1 dimensional singular locus at the intersection. \n",
    "\n",
    "The realization space then consists of a localized polynomial ring by the ideal above. Below is a description of all the data."
   ]
  },
  {
   "cell_type": "code",
   "execution_count": 168,
   "id": "d925174f",
   "metadata": {},
   "outputs": [
    {
     "name": "stdout",
     "output_type": "stream",
     "text": [
      "The ambient ring has dimension 3\n",
      "The defining ideal of the realization space is generated by \n",
      "1 * (x1*x2 + x1*x3 - x1 - x2 - x3^2 + 1) * (x1 - x2 - x3)\n",
      "The localizing semigroup has 35 generators\n"
     ]
    }
   ],
   "source": [
    "println(\"The ambient ring has dimension \", dim(RM5.ambient_ring))\n",
    "println(\"The defining ideal of the realization space is generated by \",\"\\n\",factor(gens(I)[1]))\n",
    "P_5 = RM5.inequations\n",
    "println(\"The localizing semigroup has \",length(P_5),\" generators\")"
   ]
  },
  {
   "cell_type": "markdown",
   "id": "abc92701",
   "metadata": {},
   "source": [
    "**Remark** In the paper, the coordinate ring of the realization space is presented as localized quotient of a Laurent ring in 3 variables, where the localizing multiplicative semigroup with 32 generators."
   ]
  },
  {
   "cell_type": "markdown",
   "id": "4e66fcfe",
   "metadata": {},
   "source": [
    "**Derivation modules via geometry of realization space**\n",
    "\n",
    "We now compute examples of Betti tables corresponding to free resolutions of derivation modules. We compute an example on each component, and from the singular locus.\n",
    "\n",
    "Note that we obtain realizations of $M_5$ by evaluating the entries of the matrix below at points which annihilate the generator of $I$, but nothing in the semigroup $P$."
   ]
  },
  {
   "cell_type": "code",
   "execution_count": 174,
   "id": "e5eb1246",
   "metadata": {},
   "outputs": [
    {
     "data": {
      "text/plain": [
       "[1   1    1   1   0   0        0              x1 - 1          x2 + x3 - 1            x2    1    1]\n",
       "[1   0   x1   0   1   0       x1   x1^2 - x1*x3 - x1                x1*x2            x2   x1   x2]\n",
       "[1   0   x1   1   0   1   x1 - 1                   0   x1*x2 + x1*x3 - x1   x2 + x3 - 1   x3   x3]"
      ]
     },
     "execution_count": 174,
     "metadata": {},
     "output_type": "execute_result"
    }
   ],
   "source": [
    "RM5.realization_matrix"
   ]
  },
  {
   "cell_type": "code",
   "execution_count": 172,
   "id": "5d0def80",
   "metadata": {},
   "outputs": [
    {
     "data": {
      "text/plain": [
       "x1 - x2 - x3"
      ]
     },
     "execution_count": 172,
     "metadata": {},
     "output_type": "execute_result"
    }
   ],
   "source": [
    "D5 = Dict(factor(gens(RM5.defining_ideal)[1]))\n",
    "ke = [k for k in keys(D5)]\n",
    "f1 = ke[1]\n",
    "f2 = ke[2]"
   ]
  },
  {
   "cell_type": "markdown",
   "id": "47ed60a9",
   "metadata": {},
   "source": [
    "**These functions aid in producing points on realization space**"
   ]
  },
  {
   "cell_type": "code",
   "execution_count": 195,
   "id": "4fb14597",
   "metadata": {},
   "outputs": [
    {
     "data": {
      "text/plain": [
       "sing_x (generic function with 1 method)"
      ]
     },
     "execution_count": 195,
     "metadata": {},
     "output_type": "execute_result"
    }
   ],
   "source": [
    "function x_f1(y,z)#zero x coordinate on quadratic\n",
    "    return (y+z^2-1)//(y+z-1)\n",
    "end\n",
    "\n",
    "function x_f2(y,z)#zero x coordinate on plane\n",
    "    return y+z\n",
    "end\n",
    "\n",
    "function sing_x(y)#used for singular locus\n",
    "    return (y^2+y-1)//(2*y-1)\n",
    "end\n"
   ]
  },
  {
   "cell_type": "markdown",
   "id": "957680e9",
   "metadata": {},
   "source": [
    "**Quadratic component**\n",
    "We use the function `x_f1` above to compute a homomorphism which corresponds to a point on the quadratic component outside the singular locus. We verify that the homomorphism is a point on the realization space."
   ]
  },
  {
   "cell_type": "code",
   "execution_count": 187,
   "id": "cedac153",
   "metadata": {},
   "outputs": [
    {
     "name": "stdout",
     "output_type": "stream",
     "text": [
      "Verify homomorphism corresponds to point on quadratic component realization space:\n",
      "x1*x2 + x1*x3 - x1 - x2 - x3^2 + 1 -> 0\n",
      "x1 - x2 - x3 -> -8//3\n",
      "kills something in semigroup : false\n"
     ]
    }
   ],
   "source": [
    "rhoq = hom(RM5.ambient_ring,QQ,[x_f1(2,5),2,5])\n",
    "println(\"Verify homomorphism corresponds to point on quadratic component realization space:\")\n",
    "println(f1,\" -> \",rhoq(f1))\n",
    "rhoq = hom(RM5.ambient_ring,QQ,[x_f1(2,5),2,5])\n",
    "println(f2,\" -> \",rhoq(f2))\n",
    "println(\"kills something in semigroup : \",0 in [rhoq(a) for a in RM5.inequations])"
   ]
  },
  {
   "cell_type": "code",
   "execution_count": 192,
   "id": "2bf514e9",
   "metadata": {},
   "outputs": [
    {
     "data": {
      "text/plain": [
       "[1   1       1   1   0   0       0    10//3       6   2       1   1]\n",
       "[1   0   13//3   0   1   0   13//3   -65//9   26//3   2   13//3   2]\n",
       "[1   0   13//3   1   0   1   10//3        0      26   6       5   5]"
      ]
     },
     "execution_count": 192,
     "metadata": {},
     "output_type": "execute_result"
    }
   ],
   "source": [
    "Arho = matrix(QQ,[rhoq(a) for a in RM5.realization_matrix])"
   ]
  },
  {
   "cell_type": "code",
   "execution_count": 193,
   "id": "348a1a33",
   "metadata": {},
   "outputs": [
    {
     "data": {
      "text/plain": [
       "true"
      ]
     },
     "execution_count": 193,
     "metadata": {},
     "output_type": "execute_result"
    }
   ],
   "source": [
    "is_isomorphic(matroid_from_matrix_columns(Arho),M5)"
   ]
  },
  {
   "cell_type": "markdown",
   "id": "2ebed7c2",
   "metadata": {},
   "source": [
    "We compute the betti table of the minimal free resolution of the module of logarithmic derivations corresponding to the above arrangement."
   ]
  },
  {
   "cell_type": "code",
   "execution_count": 194,
   "id": "5708b791",
   "metadata": {},
   "outputs": [
    {
     "data": {
      "text/plain": [
       "       0  1\n",
       "-----------\n",
       "1    : 1  -\n",
       "2    : -  -\n",
       "3    : -  -\n",
       "4    : -  -\n",
       "5    : -  -\n",
       "6    : -  -\n",
       "7    : -  -\n",
       "8    : 5  1\n",
       "9    : -  2\n",
       "-----------\n",
       "total: 6  3\n"
      ]
     },
     "execution_count": 194,
     "metadata": {},
     "output_type": "execute_result"
    }
   ],
   "source": [
    "B = minimal_betti_table(derivation_module(Arho))"
   ]
  },
  {
   "cell_type": "markdown",
   "id": "c91ff44b",
   "metadata": {},
   "source": [
    "**Linear component**. We follow the same steps as above to obtain the minimal betti table for a module corresponding to a point on the linear component, outside the singular locus of the realization space."
   ]
  },
  {
   "cell_type": "code",
   "execution_count": 202,
   "id": "3c89e1fd",
   "metadata": {},
   "outputs": [
    {
     "name": "stdout",
     "output_type": "stream",
     "text": [
      "Verify homomorphism corresponds to point on quadratic component realization space:\n",
      "x1*x2 + x1*x3 - x1 - x2 - x3^2 + 1 -> 16\n",
      "x1 - x2 - x3 -> 0\n",
      "kills something in semigroup : false\n"
     ]
    }
   ],
   "source": [
    "rhoq2 = hom(RM5.ambient_ring,QQ,[x_f2(2,5),2,5])\n",
    "println(\"Verify homomorphism corresponds to point on linear component realization space:\")\n",
    "println(f1,\" -> \",rhoq2(f1))\n",
    "println(f2,\" -> \",rhoq2(f2))\n",
    "println(\"kills something in semigroup : \",0 in [rhoq2(a) for a in RM5.inequations])"
   ]
  },
  {
   "cell_type": "code",
   "execution_count": 198,
   "id": "2b1905d1",
   "metadata": {},
   "outputs": [
    {
     "data": {
      "text/plain": [
       "[1   1   1   1   0   0   0   6    6   2   1   1]\n",
       "[1   0   7   0   1   0   7   7   14   2   7   2]\n",
       "[1   0   7   1   0   1   6   0   42   6   5   5]"
      ]
     },
     "execution_count": 198,
     "metadata": {},
     "output_type": "execute_result"
    }
   ],
   "source": [
    "Arho2 = matrix(QQ,[rhoq2(a) for a in RM5.realization_matrix])"
   ]
  },
  {
   "cell_type": "code",
   "execution_count": 200,
   "id": "4a8c52fc",
   "metadata": {},
   "outputs": [
    {
     "data": {
      "text/plain": [
       "       0  1\n",
       "-----------\n",
       "1    : 1  -\n",
       "2    : -  -\n",
       "3    : -  -\n",
       "4    : -  -\n",
       "5    : -  -\n",
       "6    : -  -\n",
       "7    : -  -\n",
       "8    : 5  1\n",
       "9    : -  2\n",
       "-----------\n",
       "total: 6  3\n"
      ]
     },
     "execution_count": 200,
     "metadata": {},
     "output_type": "execute_result"
    }
   ],
   "source": [
    "B = minimal_betti_table(derivation_module(Arho2))"
   ]
  },
  {
   "cell_type": "markdown",
   "id": "562d4dea",
   "metadata": {},
   "source": [
    "Observe that this is the same Betti table that we saw for the quadratic component."
   ]
  },
  {
   "cell_type": "markdown",
   "id": "fdba72e8",
   "metadata": {},
   "source": [
    "**In singular locus** Finally, we perform the same analysis for a point inside the singular locus, where the linear intersects the quadratic component."
   ]
  },
  {
   "cell_type": "code",
   "execution_count": 204,
   "id": "4027cb97",
   "metadata": {},
   "outputs": [
    {
     "name": "stdout",
     "output_type": "stream",
     "text": [
      "Verify homomorphism corresponds to point on singular locus of realization space:\n",
      "x1*x2 + x1*x3 - x1 - x2 - x3^2 + 1 -> 0\n",
      "x1 - x2 - x3 -> 0\n",
      "kills something in semigroup : false\n"
     ]
    }
   ],
   "source": [
    "rhoq3 = hom(RM5.ambient_ring,QQ,[sing_x(2),2,sing_x(2)-2])\n",
    "println(\"Verify homomorphism corresponds to point on singular locus of realization space:\")\n",
    "println(f1,\" -> \",rhoq3(f1))\n",
    "println(f2,\" -> \",rhoq3(f2))\n",
    "println(\"kills something in semigroup : \",0 in [rhoq3(a) for a in RM5.inequations])"
   ]
  },
  {
   "cell_type": "code",
   "execution_count": 205,
   "id": "b3816039",
   "metadata": {},
   "outputs": [
    {
     "data": {
      "text/plain": [
       "[1   1      1   1   0   0      0   2//3    2//3      2       1       1]\n",
       "[1   0   5//3   0   1   0   5//3   5//3   10//3      2    5//3       2]\n",
       "[1   0   5//3   1   0   1   2//3      0   10//9   2//3   -1//3   -1//3]"
      ]
     },
     "execution_count": 205,
     "metadata": {},
     "output_type": "execute_result"
    }
   ],
   "source": [
    "Arho3 = matrix(QQ,[rhoq3(a) for a in RM5.realization_matrix])"
   ]
  },
  {
   "cell_type": "code",
   "execution_count": 206,
   "id": "d4c6f163",
   "metadata": {},
   "outputs": [
    {
     "data": {
      "text/plain": [
       "       0  1\n",
       "-----------\n",
       "1    : 1  -\n",
       "2    : -  -\n",
       "3    : -  -\n",
       "4    : -  -\n",
       "5    : -  -\n",
       "6    : -  -\n",
       "7    : 1  -\n",
       "8    : 2  -\n",
       "9    : 2  3\n",
       "-----------\n",
       "total: 6  3\n"
      ]
     },
     "execution_count": 206,
     "metadata": {},
     "output_type": "execute_result"
    }
   ],
   "source": [
    "minimal_betti_table(derivation_module(Arho3))"
   ]
  },
  {
   "cell_type": "markdown",
   "id": "9264b0fe",
   "metadata": {},
   "source": [
    "Observe that the free resolutions of the points on the minimal betti table differs from that of the maximal components. The reader is invited to experiment to verify that this behavior *appears* uniform in the singular locus and maxmal components."
   ]
  },
  {
   "cell_type": "markdown",
   "id": "84f06a80",
   "metadata": {},
   "source": [
    "# Example 5.2"
   ]
  },
  {
   "cell_type": "markdown",
   "id": "4b1ad781",
   "metadata": {},
   "source": [
    "We produce a $(3,12)$-matroid $M_6$ via it's nonbases."
   ]
  },
  {
   "cell_type": "code",
   "execution_count": 299,
   "id": "7852fe99",
   "metadata": {},
   "outputs": [
    {
     "data": {
      "text/plain": [
       "Matroid of rank 3 on 12 elements"
      ]
     },
     "execution_count": 299,
     "metadata": {},
     "output_type": "execute_result"
    }
   ],
   "source": [
    "NB2 = [[1, 2, 3],[1, 2, 4],[1, 3, 4],[1, 5, 6],[1, 5, 7],[1, 6, 7],[1, 9, 12],\n",
    " [2, 3, 4],[2, 5, 8],[2, 5, 9],[2, 7, 11],[2, 8, 9],[3, 5, 10],[3, 6, 8],[4, 6, 9],[4, 7, 8],[4, 11, 12],\n",
    " [5, 6, 7],[5, 8, 9],[6, 10, 12],[8, 10, 11]]\n",
    "\n",
    "M6 = matroid_from_nonbases(NB2,12)"
   ]
  },
  {
   "cell_type": "markdown",
   "id": "579f04b9",
   "metadata": {},
   "source": [
    "**Remark** We will compute the realization space with respect to the field $\\mathbb{Q}[i,\\sqrt{3}]$. This field extension will be needed to study the points on realization space."
   ]
  },
  {
   "cell_type": "code",
   "execution_count": 313,
   "id": "b887387d",
   "metadata": {},
   "outputs": [],
   "source": [
    "QQs = QQ[\"s\"]\n",
    "K,(i,r) = number_field([s^2-3,s^2 + 1],\"a\")\n",
    "\n",
    "RM6 = realization_space(M6,B = [3,4,7],ground_ring = K);"
   ]
  },
  {
   "cell_type": "code",
   "execution_count": 314,
   "id": "720309dd",
   "metadata": {},
   "outputs": [
    {
     "data": {
      "text/plain": [
       "Ideal generated by\n",
       "  x1^3*x2 + x1^3 - 2*x1^2*x2 + 2*x1*x2 - x2 + 1"
      ]
     },
     "execution_count": 314,
     "metadata": {},
     "output_type": "execute_result"
    }
   ],
   "source": [
    "I6 = RM6.defining_ideal"
   ]
  },
  {
   "cell_type": "markdown",
   "id": "59e512be",
   "metadata": {},
   "source": [
    "Hence the defining ideal of the realization space is principal. The generator factors as we see below, where `a1` $= \\sqrt{3}$ and `a2` $ = i$. "
   ]
  },
  {
   "cell_type": "code",
   "execution_count": 315,
   "id": "ae561e78",
   "metadata": {},
   "outputs": [
    {
     "data": {
      "text/plain": [
       "1 * (x1*x2 + x1 - x2 + 1) * (x1 - 1//2*a1*a2 - 1//2) * (x1 + 1//2*a1*a2 - 1//2)"
      ]
     },
     "execution_count": 315,
     "metadata": {},
     "output_type": "execute_result"
    }
   ],
   "source": [
    "factor(gens(I6)[1])"
   ]
  },
  {
   "cell_type": "markdown",
   "id": "d283112a",
   "metadata": {},
   "source": [
    "**Functions to compute points**"
   ]
  },
  {
   "cell_type": "code",
   "execution_count": 316,
   "id": "7e33da81",
   "metadata": {},
   "outputs": [
    {
     "data": {
      "text/plain": [
       "1//2*a1*a2 + 1//2"
      ]
     },
     "execution_count": 316,
     "metadata": {},
     "output_type": "execute_result"
    }
   ],
   "source": [
    "function yy(x) #returns y values on quadradic components as af function of x\n",
    "\n",
    "    return -(x + 1)//(x-1)\n",
    "end\n",
    "#x values on linear components\n",
    "z1 = (1-i*r)//2\n",
    "z2 = (1+i*r)//2"
   ]
  },
  {
   "cell_type": "code",
   "execution_count": 319,
   "id": "51151683",
   "metadata": {},
   "outputs": [
    {
     "data": {
      "text/plain": [
       "x1 + 1//2*a1*a2 - 1//2"
      ]
     },
     "execution_count": 319,
     "metadata": {},
     "output_type": "execute_result"
    }
   ],
   "source": [
    "D6 = Dict(factor(gens(I6)[1]))\n",
    "ke = [k for k in keys(D6)]\n",
    "f1 = ke[1]\n",
    "f2 = ke[2]\n",
    "f3 = ke[3]"
   ]
  },
  {
   "cell_type": "markdown",
   "id": "fed14974",
   "metadata": {},
   "source": [
    "Hence the realization space has $3$ components, consisting of two lines where $x_1=\\frac{1\\pm i\\sqrt{3}}{2}$, and the quadratic $x_1x_2+x_1-x_2 +1$."
   ]
  },
  {
   "cell_type": "markdown",
   "id": "22d05f4d",
   "metadata": {},
   "source": [
    "**On linear component** Test linear component $x_1=\\frac{1\\pm i\\sqrt{3}}{2}$ outside singular locus. Note this is symmetric with behavior on other line."
   ]
  },
  {
   "cell_type": "code",
   "execution_count": 326,
   "id": "e64703d1",
   "metadata": {},
   "outputs": [
    {
     "name": "stdout",
     "output_type": "stream",
     "text": [
      "verify on linear component\n",
      "x1*x2 + x1 - x2 + 1 -> -3//4*a1*a2 + 5//4\n",
      "x1 - 1//2*a1*a2 - 1//2 -> -a1*a2\n",
      "x1 + 1//2*a1*a2 - 1//2 -> 0\n",
      "kills semigroup element :false\n"
     ]
    }
   ],
   "source": [
    "psi = hom(RM6.ambient_ring,K,[z1,1//2])\n",
    "println(\"verify on linear component\")\n",
    "println(f1,\" -> \",psi(f1))\n",
    "println(f2,\" -> \",psi(f2))\n",
    "println(f3,\" -> \",psi(f3))\n",
    "println(\"kills semigroup element :\",0 in [psi(s) for s in RM6.inequations])"
   ]
  },
  {
   "cell_type": "code",
   "execution_count": 334,
   "id": "786e0c00",
   "metadata": {},
   "outputs": [],
   "source": [
    "Apsi1 = matrix(K,[psi(a) for a in RM6.realization_matrix]);"
   ]
  },
  {
   "cell_type": "code",
   "execution_count": 330,
   "id": "5a545da8",
   "metadata": {},
   "outputs": [
    {
     "data": {
      "text/plain": [
       "       0  1\n",
       "-----------\n",
       "1    : 1  -\n",
       "2    : -  -\n",
       "3    : -  -\n",
       "4    : -  -\n",
       "5    : -  -\n",
       "6    : -  -\n",
       "7    : 3  -\n",
       "8    : -  -\n",
       "9    : -  1\n",
       "-----------\n",
       "total: 4  1\n"
      ]
     },
     "execution_count": 330,
     "metadata": {},
     "output_type": "execute_result"
    }
   ],
   "source": [
    "minimal_betti_table(derivation_module(Apsi1))"
   ]
  },
  {
   "cell_type": "markdown",
   "id": "be20e3c8",
   "metadata": {},
   "source": [
    "**On quadratic component** We test a point on quadratic component of realization space, outside singular locus."
   ]
  },
  {
   "cell_type": "code",
   "execution_count": 338,
   "id": "9ded957b",
   "metadata": {},
   "outputs": [
    {
     "name": "stdout",
     "output_type": "stream",
     "text": [
      "verify on quadratic component\n",
      "x1*x2 + x1 - x2 + 1 -> 0\n",
      "x1 - 1//2*a1*a2 - 1//2 -> -1//2*a1*a2 + 3//2\n",
      "x1 + 1//2*a1*a2 - 1//2 -> 1//2*a1*a2 + 3//2\n",
      "kills semigroup element :false\n"
     ]
    }
   ],
   "source": [
    "psi2 = hom(RM6.ambient_ring,K,[2,yy(2)])\n",
    "println(\"verify on quadratic component\")\n",
    "println(f1,\" -> \",psi2(f1))\n",
    "println(f2,\" -> \",psi2(f2))\n",
    "println(f3,\" -> \",psi2(f3))\n",
    "println(\"kills semigroup element :\",0 in [psi2(s) for s in RM6.inequations])"
   ]
  },
  {
   "cell_type": "code",
   "execution_count": 332,
   "id": "afe35964",
   "metadata": {},
   "outputs": [
    {
     "data": {
      "text/plain": [
       "[1   1   1   0   1    1   0    0    1   10    1    1]\n",
       "[1   2   0   1   1    1   0    1    3   -5    2    7]\n",
       "[0   0   0   0   1   -1   1   -1   -1   -5   -3   -3]"
      ]
     },
     "execution_count": 332,
     "metadata": {},
     "output_type": "execute_result"
    }
   ],
   "source": [
    "Apsi2 = matrix(K,[psi2(a) for a in RM6.realization_matrix])"
   ]
  },
  {
   "cell_type": "code",
   "execution_count": 335,
   "id": "b23b4b63",
   "metadata": {},
   "outputs": [
    {
     "data": {
      "text/plain": [
       "       0  1\n",
       "-----------\n",
       "1    : 1  -\n",
       "2    : -  -\n",
       "3    : -  -\n",
       "4    : -  -\n",
       "5    : -  -\n",
       "6    : -  -\n",
       "7    : 2  -\n",
       "8    : 3  3\n",
       "-----------\n",
       "total: 6  3\n"
      ]
     },
     "execution_count": 335,
     "metadata": {},
     "output_type": "execute_result"
    }
   ],
   "source": [
    "minimal_betti_table(derivation_module(Apsi2))"
   ]
  },
  {
   "cell_type": "markdown",
   "id": "8f66356c",
   "metadata": {},
   "source": [
    "**Inside singular locus** Test point on intersection of a linear component with the quadratic."
   ]
  },
  {
   "cell_type": "code",
   "execution_count": 337,
   "id": "0a4ad31a",
   "metadata": {},
   "outputs": [
    {
     "name": "stdout",
     "output_type": "stream",
     "text": [
      "verify in singular locus\n",
      "x1*x2 + x1 - x2 + 1 -> 0\n",
      "x1 - 1//2*a1*a2 - 1//2 -> 0\n",
      "x1 + 1//2*a1*a2 - 1//2 -> a1*a2\n",
      "kills semigroup element :false\n"
     ]
    }
   ],
   "source": [
    "psi3 = hom(RM6.ambient_ring,K,[z2,yy(z2)])\n",
    "println(\"verify in singular locus\")\n",
    "println(f1,\" -> \",psi3(f1))\n",
    "println(f2,\" -> \",psi3(f2))\n",
    "println(f3,\" -> \",psi3(f3))\n",
    "println(\"kills semigroup element :\",0 in [psi3(s) for s in RM6.inequations])"
   ]
  },
  {
   "cell_type": "code",
   "execution_count": 340,
   "id": "8fc5ef55",
   "metadata": {},
   "outputs": [],
   "source": [
    "Apsi3 = matrix(K,[psi3(a) for a in RM6.realization_matrix]);"
   ]
  },
  {
   "cell_type": "code",
   "execution_count": 342,
   "id": "f49d3c0b",
   "metadata": {},
   "outputs": [
    {
     "data": {
      "text/plain": [
       "       0  1\n",
       "-----------\n",
       "1    : 1  -\n",
       "2    : -  -\n",
       "3    : -  -\n",
       "4    : -  -\n",
       "5    : -  -\n",
       "6    : -  -\n",
       "7    : 3  -\n",
       "8    : -  -\n",
       "9    : -  1\n",
       "-----------\n",
       "total: 4  1\n"
      ]
     },
     "execution_count": 342,
     "metadata": {},
     "output_type": "execute_result"
    }
   ],
   "source": [
    "minimal_betti_table(derivation_module(Apsi3))"
   ]
  },
  {
   "cell_type": "markdown",
   "id": "faf6433e",
   "metadata": {},
   "source": [
    "Then inside the singular locus, and on the lines, for these examples we see Betti tables of the form above. All observed examples on the quadratic have the form we saw in the previous computation."
   ]
  },
  {
   "cell_type": "code",
   "execution_count": null,
   "id": "0592b63d",
   "metadata": {},
   "outputs": [],
   "source": []
  }
 ],
 "metadata": {
  "kernelspec": {
   "display_name": "Julia 1.10.3",
   "language": "julia",
   "name": "julia-1.10"
  },
  "language_info": {
   "file_extension": ".jl",
   "mimetype": "application/julia",
   "name": "julia",
   "version": "1.10.3"
  }
 },
 "nbformat": 4,
 "nbformat_minor": 5
}
